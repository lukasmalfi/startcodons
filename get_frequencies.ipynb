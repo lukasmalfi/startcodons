{
 "cells": [
  {
   "cell_type": "code",
   "execution_count": 1,
   "metadata": {},
   "outputs": [],
   "source": [
    "import pandas as pd\n",
    "from tqdm import tqdm\n",
    "from collections import Counter\n",
    "import glob\n",
    "import pickle"
   ]
  },
  {
   "cell_type": "code",
   "execution_count": 2,
   "metadata": {},
   "outputs": [
    {
     "name": "stderr",
     "output_type": "stream",
     "text": [
      "100%|██████████| 1/1 [00:00<00:00, 55.40it/s]"
     ]
    },
    {
     "name": "stdout",
     "output_type": "stream",
     "text": [
      "Total occurences of start codons in: lacI\n",
      "ATG: 0.3333333333333333 \t GTG: 1.6666666666666665 \t TTG: 0\n"
     ]
    },
    {
     "name": "stderr",
     "output_type": "stream",
     "text": [
      "\n"
     ]
    }
   ],
   "source": [
    "\n",
    "#example file:lacI_example.txt\n",
    "\n",
    "#list fo all the genes we want to invetigate\n",
    "names=[\"lacI\"]\n",
    "\n",
    "dici_={}\n",
    "for gene in tqdm(names):\n",
    "\n",
    "    rawout=open(gene+\"_example.txt\")\n",
    "    rawl=rawout.readlines()\n",
    "    rawout.close()\n",
    "    check=0\n",
    "    all_cds=[]\n",
    "    # Create empty DataFrame with specified columns\n",
    "    df = pd.DataFrame(columns=[\"Beg\", \"End\", \"Std\", \"Total\", \"CodPot\", \"StrtSc\", \"Codon\", \"RBSMot\", \"Spacer\", \"RBSScr\", \"UpsScr\", \"TypeScr\", \"GCCont\"])\n",
    "    \n",
    "    for l in rawl:\n",
    "        if l[0] == \"#\":\n",
    "            check = 0\n",
    "            # If we found a hit and the DataFrame has at least one row\n",
    "            if len(df) >= 1:\n",
    "                # Filter out rows where \"Codon\" is \"Edge\"\n",
    "                df = df[df[\"Codon\"] != \"Edge\"]\n",
    "                if len(df) == 0:\n",
    "                    continue\n",
    "                # Here we can do something with the finished DataFrame\n",
    "                df[\"Total\"] = df[\"Total\"].astype(float)\n",
    "                df[\"Len\"] = abs(df[\"Beg\"].astype(int) - df[\"End\"].astype(int))\n",
    "                maxl = max(df[\"Len\"])\n",
    "                maxv = max(df[\"Total\"])\n",
    "                # Filter out rows where \"Len\" is greater than 90% of the maximum length\n",
    "                df = df[df[\"Len\"] > (maxl * 0.9)]\n",
    "                # Filter out rows where \"Total\" is greater than 80% of the maximum value\n",
    "                df2 = df[df[\"Total\"] > (maxv * 0.8)]\n",
    "                \n",
    "                # If the \"RBSMot\" value at the row with the maximum \"Total\" is \"None\"\n",
    "                if df2.loc[df2[\"Total\"].idxmax(), \"RBSMot\"] == \"None\":\n",
    "                    # Append the normalized value counts of \"Codon\" to all_cds\n",
    "                    all_cds.append(df2[\"Codon\"].value_counts(normalize=True))\n",
    "\n",
    "                # If the \"RBSMot\" value at the row with the maximum \"Total\" is not \"None\"\n",
    "                if df2.loc[df2[\"Total\"].idxmax(), \"RBSMot\"] != \"None\":\n",
    "                    # Filter out rows where \"RBSMot\" is \"None\"\n",
    "                    df3 = df2[df2[\"RBSMot\"] != \"None\"]\n",
    "                    # Append the normalized value counts of \"Codon\" to all_cds\n",
    "                    all_cds.append(df3[\"Codon\"].value_counts(normalize=True))\n",
    "                    \n",
    "                # Reset the DataFrame for the next iteration\n",
    "                df = pd.DataFrame(columns=[\"Beg\", \"End\", \"Std\", \"Total\", \"CodPot\", \"StrtSc\", \"Codon\", \"RBSMot\", \"Spacer\", \"RBSScr\", \"UpsScr\", \"TypeScr\", \"GCCont\"])\n",
    "        \n",
    "        if check == 1:\n",
    "            if l[0] != \"\\n\":\n",
    "                # Add a new row to the DataFrame with values from the current line\n",
    "                df.loc[len(df), :] = l.strip().split(\"\\t\")\n",
    "\n",
    "        if l[:3] == \"Beg\":\n",
    "            check = 1\n",
    "            \n",
    "            \n",
    "            \n",
    "    #Count total occurences of the three start codons:\n",
    "\n",
    "    sumatg=0\n",
    "    sumgtg=0\n",
    "    sumttg=0\n",
    "    for x in all_cds:\n",
    "        try:\n",
    "            sumatg+=x[\"ATG\"]\n",
    "        except:\n",
    "            pass\n",
    "        try:\n",
    "            sumgtg+=x[\"GTG\"]\n",
    "        except:\n",
    "            pass\n",
    "        try:\n",
    "            sumttg+=x[\"TTG\"]\n",
    "        except:\n",
    "            pass\n",
    "    #Create a dictionary to save the results, multiple genes and startcodons possible\n",
    "    print(\"Total occurences of start codons in: \"+gene)\n",
    "    print(\"ATG: \"+str(sumatg)+\" \\t GTG: \"+ str(sumgtg)+\" \\t TTG: \"+ str(sumttg))\n",
    "    dici_[gene]={}\n",
    "    dici_[gene][\"ATG\"]=sumatg\n",
    "    dici_[gene][\"GTG\"]=sumgtg\n",
    "    dici_[gene][\"TTG\"]=sumttg\n",
    "    "
   ]
  },
  {
   "cell_type": "code",
   "execution_count": 3,
   "metadata": {},
   "outputs": [
    {
     "name": "stdout",
     "output_type": "stream",
     "text": [
      "dictionary saved successfully to file\n"
     ]
    }
   ],
   "source": [
    "#Optional: saves the dictionary\n",
    "with open('dici_lacI.pkl', 'wb') as fp:\n",
    "    pickle.dump(dici_, fp)\n",
    "    print('dictionary saved successfully to file')"
   ]
  },
  {
   "cell_type": "code",
   "execution_count": 4,
   "metadata": {},
   "outputs": [],
   "source": [
    "#list of investigated start codons\n",
    "codons=[\"ATG\",\"GTG\",\"TTG\"]"
   ]
  },
  {
   "cell_type": "code",
   "execution_count": 5,
   "metadata": {},
   "outputs": [],
   "source": [
    "#Calculate relative abundance of the start codons over each gene\n",
    "var=[]\n",
    "tr=[]\n",
    "val=[]\n",
    "for gen in names:\n",
    "    dc=dici_[gen]\n",
    "    summa=dc[\"ATG\"]+dc[\"GTG\"]+dc[\"TTG\"]\n",
    "    for co in codons:\n",
    "        var.append(co)\n",
    "        tr.append(gen)\n",
    "        try:\n",
    "            val.append(dc[co]/summa)\n",
    "        except:\n",
    "            val.append(0.0)"
   ]
  },
  {
   "cell_type": "code",
   "execution_count": 9,
   "metadata": {},
   "outputs": [
    {
     "data": {
      "text/html": [
       "<div>\n",
       "<style scoped>\n",
       "    .dataframe tbody tr th:only-of-type {\n",
       "        vertical-align: middle;\n",
       "    }\n",
       "\n",
       "    .dataframe tbody tr th {\n",
       "        vertical-align: top;\n",
       "    }\n",
       "\n",
       "    .dataframe thead th {\n",
       "        text-align: right;\n",
       "    }\n",
       "</style>\n",
       "<table border=\"1\" class=\"dataframe\">\n",
       "  <thead>\n",
       "    <tr style=\"text-align: right;\">\n",
       "      <th></th>\n",
       "      <th>Start Codon</th>\n",
       "      <th>Gene</th>\n",
       "      <th>Percentage</th>\n",
       "    </tr>\n",
       "  </thead>\n",
       "  <tbody>\n",
       "    <tr>\n",
       "      <th>0</th>\n",
       "      <td>ATG</td>\n",
       "      <td>lacI</td>\n",
       "      <td>0.166667</td>\n",
       "    </tr>\n",
       "    <tr>\n",
       "      <th>1</th>\n",
       "      <td>GTG</td>\n",
       "      <td>lacI</td>\n",
       "      <td>0.833333</td>\n",
       "    </tr>\n",
       "    <tr>\n",
       "      <th>2</th>\n",
       "      <td>TTG</td>\n",
       "      <td>lacI</td>\n",
       "      <td>0.000000</td>\n",
       "    </tr>\n",
       "  </tbody>\n",
       "</table>\n",
       "</div>"
      ],
      "text/plain": [
       "  Start Codon  Gene  Percentage\n",
       "0         ATG  lacI    0.166667\n",
       "1         GTG  lacI    0.833333\n",
       "2         TTG  lacI    0.000000"
      ]
     },
     "execution_count": 9,
     "metadata": {},
     "output_type": "execute_result"
    }
   ],
   "source": [
    "#Create dataframe in a nice format for plotting\n",
    "newd=pd.DataFrame(columns=[\"Start Codon\",\"Gene\",\"Percentage\"])\n",
    "\n",
    "newd[\"Start Codon\"]=var\n",
    "newd[\"Gene\"]=tr\n",
    "newd[\"Percentage\"]=val\n",
    "\n",
    "newd"
   ]
  },
  {
   "cell_type": "code",
   "execution_count": 7,
   "metadata": {},
   "outputs": [],
   "source": [
    "#Optional: save the dataframe as csv, to continue to plotting or further analysis\n",
    "df1str=newd.to_csv(sep=\"\\t\",index=False)\n",
    "f= open(\"R_rel_frequencies_ecoli_v3.csv\",\"w+\")\n",
    "f.write(df1str)\n",
    "f.close()"
   ]
  }
 ],
 "metadata": {
  "kernelspec": {
   "display_name": "Python 3",
   "language": "python",
   "name": "python3"
  },
  "language_info": {
   "codemirror_mode": {
    "name": "ipython",
    "version": 3
   },
   "file_extension": ".py",
   "mimetype": "text/x-python",
   "name": "python",
   "nbconvert_exporter": "python",
   "pygments_lexer": "ipython3",
   "version": "3.12.1"
  }
 },
 "nbformat": 4,
 "nbformat_minor": 4
}
